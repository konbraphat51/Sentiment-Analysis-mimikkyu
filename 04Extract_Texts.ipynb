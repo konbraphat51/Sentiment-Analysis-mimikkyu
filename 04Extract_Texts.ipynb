{
 "cells": [
  {
   "attachments": {},
   "cell_type": "markdown",
   "metadata": {},
   "source": [
    "# ラベル付けソフトに食わせるためにテキスト部分のみ抽出"
   ]
  },
  {
   "cell_type": "code",
   "execution_count": 3,
   "metadata": {},
   "outputs": [],
   "source": [
    "#データ管理のID\n",
    "ID = \"mimikkyu\"\n",
    "\n",
    "#スレ保存されたファイル\n",
    "threads_file = \"Threads/%s.txt\"%ID\n",
    "\n",
    "#レス保存されたファイル\n",
    "responses_file = \"Responses/%s.txt\"%ID\n",
    "\n",
    "#ストップワードが書かれたファイル\n",
    "stopwords_file = \"Stopwords/%s.txt\"%ID\n",
    "\n",
    "#スレのテキスト保存するファイル\n",
    "threads_output_file = \"Only_Texts/Threads/%s.txt\"%ID\n",
    "\n",
    "#レスのテキスト保存するファイル\n",
    "responses_output_file = \"Only_Texts/Responses/%s.txt\"%ID"
   ]
  },
  {
   "attachments": {},
   "cell_type": "markdown",
   "metadata": {},
   "source": [
    "## 変換"
   ]
  },
  {
   "attachments": {},
   "cell_type": "markdown",
   "metadata": {},
   "source": [
    "### ストップワードを取得"
   ]
  },
  {
   "cell_type": "code",
   "execution_count": 4,
   "metadata": {},
   "outputs": [],
   "source": [
    "stopwords = []\n",
    "with open(stopwords_file, \"r\", encoding=\"utf-8\") as f:\n",
    "    stopwords = f.read().split()"
   ]
  },
  {
   "cell_type": "code",
   "execution_count": 5,
   "metadata": {},
   "outputs": [],
   "source": [
    "def has_stopwords(text):\n",
    "    for stopword in stopwords:\n",
    "        if stopword in text:\n",
    "            return True\n",
    "    \n",
    "    return False"
   ]
  },
  {
   "attachments": {},
   "cell_type": "markdown",
   "metadata": {},
   "source": [
    "### 指定された行からテキスト部分を抽出"
   ]
  },
  {
   "cell_type": "code",
   "execution_count": 6,
   "metadata": {},
   "outputs": [],
   "source": [
    "def get_text(line):\n",
    "    output = line.split(\"\\t\")[3]\n",
    "    if output[-1] == \"\\n\":\n",
    "        return output\n",
    "    else:\n",
    "        return output+\"\\n\""
   ]
  },
  {
   "cell_type": "code",
   "execution_count": 7,
   "metadata": {},
   "outputs": [],
   "source": [
    "import random\n",
    "\n",
    "random.seed(334)"
   ]
  },
  {
   "attachments": {},
   "cell_type": "markdown",
   "metadata": {},
   "source": [
    "### レスファイルを変換"
   ]
  },
  {
   "cell_type": "code",
   "execution_count": 8,
   "metadata": {},
   "outputs": [],
   "source": [
    "texts = []\n",
    "\n",
    "with open(responses_file, \"r\", encoding=\"utf-8\") as read_f:\n",
    "    for line in read_f:\n",
    "        texts.append(get_text(line))\n",
    "\n",
    "random.shuffle(texts)\n",
    "\n",
    "with open(responses_output_file, \"w\", encoding=\"utf-8\") as write_f:\n",
    "    for text in texts:\n",
    "        if has_stopwords(text) == False:\n",
    "            write_f.write(text)"
   ]
  },
  {
   "attachments": {},
   "cell_type": "markdown",
   "metadata": {},
   "source": [
    "### スレファイルを変換"
   ]
  },
  {
   "cell_type": "code",
   "execution_count": 9,
   "metadata": {},
   "outputs": [],
   "source": [
    "texts = []\n",
    "\n",
    "with open(threads_file, \"r\", encoding=\"utf-8\") as read_f:\n",
    "    for line in read_f:\n",
    "        texts.append(get_text(line))\n",
    "\n",
    "random.shuffle(texts)\n",
    "\n",
    "with open(threads_output_file, \"w\", encoding=\"utf-8\") as write_f:\n",
    "    for text in texts:\n",
    "        if has_stopwords(text) == False:\n",
    "            write_f.write(text)"
   ]
  }
 ],
 "metadata": {
  "kernelspec": {
   "display_name": "jpnlp",
   "language": "python",
   "name": "python3"
  },
  "language_info": {
   "codemirror_mode": {
    "name": "ipython",
    "version": 3
   },
   "file_extension": ".py",
   "mimetype": "text/x-python",
   "name": "python",
   "nbconvert_exporter": "python",
   "pygments_lexer": "ipython3",
   "version": "3.9.16"
  },
  "orig_nbformat": 4,
  "vscode": {
   "interpreter": {
    "hash": "af19612f8f38f6812d87a5ef9419a460d9700d7e1cf8ff071cf581e2ee4d6233"
   }
  }
 },
 "nbformat": 4,
 "nbformat_minor": 2
}
