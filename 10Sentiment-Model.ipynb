{
 "cells": [
  {
   "attachments": {},
   "cell_type": "markdown",
   "metadata": {},
   "source": [
    "# 極性予測モデルを作る"
   ]
  },
  {
   "cell_type": "code",
   "execution_count": 17,
   "metadata": {},
   "outputs": [],
   "source": [
    "ID = \"mimikkyu\"\n",
    "\n",
    "POPULATION_ID = \"population\"\n",
    "\n",
    "#分析対象テキストデータ\n",
    "target_texts_file = \"Only_Texts/Responses/%s.txt\"%ID\n",
    "\n",
    "#母集団テキストデータ\n",
    "population_texts_file = \"Only_Texts/population-sample50000.txt\"\n",
    "\n",
    "#分析対象の極性教師データ\n",
    "target_teacher_file = \"Sentiment-Teacher/%s.txt\"%ID\n",
    "\n",
    "#母集団の極性教師データ\n",
    "population_teacher_file = \"Sentiment-Teacher/%s.txt\"%POPULATION_ID\n",
    "\n",
    "#アマゾンの極性教師データ\n",
    "amazon_teacher_file_pos = \"Amazon/positive.txt\"\n",
    "amazon_teacher_file_neg = \"Amazon/negative.txt\"\n",
    "\n",
    "#TFIDFモデルの保存\n",
    "tfidf_model_file = \"Models/Tfidf/%s-from-%s.model\"%(ID, POPULATION_ID)\n",
    "\n",
    "#分析器の保存\n",
    "classifer_model_file = \"Models/Classifers/%s-from-%s.model\"%(ID, POPULATION_ID)"
   ]
  },
  {
   "attachments": {},
   "cell_type": "markdown",
   "metadata": {},
   "source": [
    "## ファイル読み込み"
   ]
  },
  {
   "cell_type": "code",
   "execution_count": 18,
   "metadata": {},
   "outputs": [],
   "source": [
    "import pandas as pd"
   ]
  },
  {
   "attachments": {},
   "cell_type": "markdown",
   "metadata": {},
   "source": [
    "### テキストデータ群"
   ]
  },
  {
   "cell_type": "code",
   "execution_count": 19,
   "metadata": {},
   "outputs": [
    {
     "data": {
      "text/plain": [
       "((6975, 1), (50000, 1))"
      ]
     },
     "execution_count": 19,
     "metadata": {},
     "output_type": "execute_result"
    }
   ],
   "source": [
    "df_target_texts = pd.read_table(target_texts_file, names=[\"Texts\"])\n",
    "df_population_texts = pd.read_table(population_texts_file, names=[\"Texts\"])\n",
    "\n",
    "\n",
    "df_target_texts.shape, df_population_texts.shape"
   ]
  },
  {
   "attachments": {},
   "cell_type": "markdown",
   "metadata": {},
   "source": [
    "### 教師データ群"
   ]
  },
  {
   "cell_type": "code",
   "execution_count": 20,
   "metadata": {},
   "outputs": [
    {
     "data": {
      "text/plain": [
       "(505, 2)"
      ]
     },
     "execution_count": 20,
     "metadata": {},
     "output_type": "execute_result"
    }
   ],
   "source": [
    "df_target = pd.read_table(target_teacher_file, names=[\"Texts\", \"Sentiment\"], index_col=None)\n",
    "\n",
    "df_target.shape"
   ]
  },
  {
   "cell_type": "code",
   "execution_count": 21,
   "metadata": {},
   "outputs": [
    {
     "data": {
      "text/plain": [
       "(1000, 2)"
      ]
     },
     "execution_count": 21,
     "metadata": {},
     "output_type": "execute_result"
    }
   ],
   "source": [
    "df_population = pd.read_table(population_teacher_file, names=[\"Texts\", \"Sentiment\"], index_col=None)\n",
    "\n",
    "df_population.shape"
   ]
  },
  {
   "cell_type": "code",
   "execution_count": 22,
   "metadata": {},
   "outputs": [
    {
     "data": {
      "text/plain": [
       "(2000, 2)"
      ]
     },
     "execution_count": 22,
     "metadata": {},
     "output_type": "execute_result"
    }
   ],
   "source": [
    "df_amazon_pos = pd.read_table(amazon_teacher_file_pos, names=[\"Texts\"], index_col=None)\n",
    "df_amazon_neg = pd.read_table(amazon_teacher_file_neg, names=[\"Texts\"], index_col=None)\n",
    "\n",
    "df_amazon_pos[\"Sentiment\"] = \"pos\"\n",
    "df_amazon_neg[\"Sentiment\"] = \"neg\"\n",
    "\n",
    "df_amazon = pd.concat([df_amazon_pos, df_amazon_neg])\n",
    "\n",
    "df_amazon.shape"
   ]
  },
  {
   "attachments": {},
   "cell_type": "markdown",
   "metadata": {},
   "source": [
    "### 全テキストデータの作成"
   ]
  },
  {
   "cell_type": "code",
   "execution_count": 23,
   "metadata": {},
   "outputs": [
    {
     "data": {
      "text/html": [
       "<div>\n",
       "<style scoped>\n",
       "    .dataframe tbody tr th:only-of-type {\n",
       "        vertical-align: middle;\n",
       "    }\n",
       "\n",
       "    .dataframe tbody tr th {\n",
       "        vertical-align: top;\n",
       "    }\n",
       "\n",
       "    .dataframe thead th {\n",
       "        text-align: right;\n",
       "    }\n",
       "</style>\n",
       "<table border=\"1\" class=\"dataframe\">\n",
       "  <thead>\n",
       "    <tr style=\"text-align: right;\">\n",
       "      <th></th>\n",
       "      <th>Texts</th>\n",
       "      <th>0</th>\n",
       "    </tr>\n",
       "  </thead>\n",
       "  <tbody>\n",
       "    <tr>\n",
       "      <th>0</th>\n",
       "      <td>今までは枠余ったらなんだかんだできるミミッキュで埋めとけってなったけどみんなパラドックス使...</td>\n",
       "      <td>NaN</td>\n",
       "    </tr>\n",
       "    <tr>\n",
       "      <th>1</th>\n",
       "      <td>ミミッキュの孵化あまりでフカマル釣るドン &lt;\\br&gt;</td>\n",
       "      <td>NaN</td>\n",
       "    </tr>\n",
       "    <tr>\n",
       "      <th>2</th>\n",
       "      <td>キテルグマとミミッキュ来るか？   ＞ポケモン公式ツイッター ?@Pokemon_cojp...</td>\n",
       "      <td>NaN</td>\n",
       "    </tr>\n",
       "    <tr>\n",
       "      <th>3</th>\n",
       "      <td>ばけのかわと言う名のマルスケ頑丈のほぼ上位互換  ミミッキュの皮ってなんなんだよ… &lt;\\br&gt;</td>\n",
       "      <td>NaN</td>\n",
       "    </tr>\n",
       "    <tr>\n",
       "      <th>4</th>\n",
       "      <td>すべてのダメージを1回だけ無効にするミミッキュという化物がいるらしい &lt;\\br&gt;</td>\n",
       "      <td>NaN</td>\n",
       "    </tr>\n",
       "  </tbody>\n",
       "</table>\n",
       "</div>"
      ],
      "text/plain": [
       "                                               Texts    0\n",
       "0   今までは枠余ったらなんだかんだできるミミッキュで埋めとけってなったけどみんなパラドックス使...  NaN\n",
       "1                         ミミッキュの孵化あまりでフカマル釣るドン <\\br>  NaN\n",
       "2   キテルグマとミミッキュ来るか？   ＞ポケモン公式ツイッター ?@Pokemon_cojp...  NaN\n",
       "3    ばけのかわと言う名のマルスケ頑丈のほぼ上位互換  ミミッキュの皮ってなんなんだよ… <\\br>  NaN\n",
       "4           すべてのダメージを1回だけ無効にするミミッキュという化物がいるらしい <\\br>  NaN"
      ]
     },
     "execution_count": 23,
     "metadata": {},
     "output_type": "execute_result"
    }
   ],
   "source": [
    "df_all_texts = pd.concat([df_target_texts, df_population_texts, df_amazon[\"Texts\"]])\n",
    "\n",
    "df_all_texts.head(5)"
   ]
  },
  {
   "attachments": {},
   "cell_type": "markdown",
   "metadata": {},
   "source": [
    "## 学習データと評価データの切り分け"
   ]
  },
  {
   "cell_type": "code",
   "execution_count": 24,
   "metadata": {},
   "outputs": [
    {
     "data": {
      "text/plain": [
       "((288, 2), (416, 2), (2000, 2))"
      ]
     },
     "execution_count": 24,
     "metadata": {},
     "output_type": "execute_result"
    }
   ],
   "source": [
    "#pos, negのみ抽出\n",
    "df_target_posneg = df_target[df_target[\"Sentiment\"]!=\"neu\"]\n",
    "df_population_posneg = df_population[df_population[\"Sentiment\"]!=\"neu\"]\n",
    "df_amazon_posneg = df_amazon[df_amazon[\"Sentiment\"]!=\"neu\"]\n",
    "\n",
    "df_target_posneg.shape, df_population_posneg.shape, df_amazon_posneg.shape"
   ]
  },
  {
   "cell_type": "code",
   "execution_count": 25,
   "metadata": {},
   "outputs": [
    {
     "data": {
      "text/plain": [
       "((2162, 2), (542, 2), 2162)"
      ]
     },
     "execution_count": 25,
     "metadata": {},
     "output_type": "execute_result"
    }
   ],
   "source": [
    "from sklearn.model_selection import train_test_split\n",
    "\n",
    "TEST_RATIO = 0.2\n",
    "\n",
    "#各データの重みづけ\n",
    "TARGET_WEIGHT       = 5\n",
    "POPULATION_WEIGHT   = 3\n",
    "AMAZON_WEIGHT       = 1\n",
    "\n",
    "#切り分け\n",
    "df_target_train, df_target_valid = train_test_split(df_target_posneg, test_size=TEST_RATIO, random_state=334)\n",
    "df_population_train, df_population_valid = train_test_split(df_population_posneg, test_size=TEST_RATIO, random_state=334)\n",
    "df_amazon_train, df_amazon_valid = train_test_split(df_amazon_posneg, test_size=TEST_RATIO, random_state=334)\n",
    "\n",
    "df_all_train = pd.concat([df_target_train, df_population_train, df_amazon_train])\n",
    "df_all_valid = pd.concat([df_target_valid, df_population_valid, df_amazon_valid])\n",
    "\n",
    "df_all = pd.concat([df_all_train, df_all_valid])\n",
    "\n",
    "#重みづけ配列\n",
    "data_weights = []\n",
    "def get_wights(target_weight, population_weight, amazon_weight):\n",
    "    data_weights = []\n",
    "\n",
    "    for _ in range(len(df_target_train)):\n",
    "        data_weights.append(target_weight)\n",
    "    for _ in range(len(df_population_train)):\n",
    "        data_weights.append(population_weight)\n",
    "    for _ in range(len(df_amazon_train)):\n",
    "        data_weights.append(amazon_weight)\n",
    "\n",
    "    return data_weights\n",
    "\n",
    "data_weights = get_wights(5,3,1)\n",
    "\n",
    "df_all_train.shape, df_all_valid.shape, len(data_weights)"
   ]
  },
  {
   "attachments": {},
   "cell_type": "markdown",
   "metadata": {},
   "source": [
    "## TFIDFモデルを作成"
   ]
  },
  {
   "cell_type": "code",
   "execution_count": 26,
   "metadata": {},
   "outputs": [
    {
     "name": "stdout",
     "output_type": "stream",
     "text": [
      "['*', 'オレンジ-orange', '今日', 'も', '食べる', 'て', '見る', 'た', 'けれど', '未だ', '酸っぱい', 'て', '泣く', 'た', '*']\n"
     ]
    },
    {
     "name": "stderr",
     "output_type": "stream",
     "text": [
      "c:\\Users\\brigh\\anaconda3\\envs\\jpnlp\\lib\\site-packages\\sklearn\\feature_extraction\\text.py:516: UserWarning: The parameter 'token_pattern' will not be used since 'tokenizer' is not None'\n",
      "  warnings.warn(\n"
     ]
    }
   ],
   "source": [
    "import MeCab\n",
    "from sklearn.feature_extraction.text import TfidfVectorizer\n",
    "\n",
    "#形態素分解＋原形をリスト化\n",
    "def tokenize(text):\n",
    "    output = []\n",
    "    \n",
    "    tagger = MeCab.Tagger()\n",
    "    node = tagger.parseToNode(text)\n",
    "\n",
    "    while node:\n",
    "        #原形を記録\n",
    "        features = node.feature.split(\",\")\n",
    "        if len(features) >= 8:\n",
    "            output.append(features[7])\n",
    "        else:\n",
    "            output.append(node.surface)\n",
    "\n",
    "        node = node.next\n",
    "    \n",
    "    return output\n",
    "\n",
    "print(tokenize(\"オレンジ今日も食べてみたけどまだ酸っぱくて泣いた\"))\n",
    "\n",
    "#単語ベクトル作成+TFIDFモデルの作成\n",
    "vectorizer = TfidfVectorizer(tokenizer=tokenize, ngram_range=(1,3), min_df=20, sublinear_tf=True)\n",
    "tfidf_fit = vectorizer.fit(df_all_texts[\"Texts\"].values.astype(\"U\"))\n",
    "\n",
    "#各データフレームをTFIDFのspycy行列に\n",
    "num_target_train     = tfidf_fit.transform(df_target_train[\"Texts\"].values.astype(\"U\"))\n",
    "num_target_valid     = tfidf_fit.transform(df_target_valid[\"Texts\"].values.astype(\"U\"))\n",
    "num_population_train = tfidf_fit.transform(df_population_train[\"Texts\"].values.astype(\"U\"))\n",
    "num_population_valid = tfidf_fit.transform(df_population_valid[\"Texts\"].values.astype(\"U\"))\n",
    "num_amazon_train     = tfidf_fit.transform(df_amazon_train[\"Texts\"].values.astype(\"U\"))\n",
    "num_amazon_valid     = tfidf_fit.transform(df_amazon_valid[\"Texts\"].values.astype(\"U\"))\n",
    "\n",
    "num_all_train        = tfidf_fit.transform(df_all_train[\"Texts\"].values.astype(\"U\"))\n",
    "num_all_valid        = tfidf_fit.transform(df_all_valid[\"Texts\"].values.astype(\"U\"))"
   ]
  },
  {
   "attachments": {},
   "cell_type": "markdown",
   "metadata": {},
   "source": [
    "## ロジスティック回帰による分類モデルを作成"
   ]
  },
  {
   "cell_type": "code",
   "execution_count": 27,
   "metadata": {},
   "outputs": [],
   "source": [
    "from sklearn.linear_model import SGDClassifier"
   ]
  },
  {
   "attachments": {},
   "cell_type": "markdown",
   "metadata": {},
   "source": [
    "### 学習"
   ]
  },
  {
   "cell_type": "code",
   "execution_count": 28,
   "metadata": {},
   "outputs": [],
   "source": [
    "#spycy行列を普通の行列に\n",
    "x_train             = num_all_train.toarray()\n",
    "x_valid             = num_all_valid.toarray()    \n",
    "x_target_valid      = num_target_valid.toarray()\n",
    "x_population_valid  = num_population_valid.toarray()\n",
    "x_amazon_valid      = num_amazon_valid.toarray()"
   ]
  },
  {
   "cell_type": "code",
   "execution_count": 29,
   "metadata": {},
   "outputs": [
    {
     "data": {
      "text/plain": [
       "((1, 1, 1), 0.7758620689655172)"
      ]
     },
     "execution_count": 29,
     "metadata": {},
     "output_type": "execute_result"
    }
   ],
   "source": [
    "#分類モデル\n",
    "classifer = SGDClassifier(loss=\"log\", penalty=\"l2\", random_state=334)\n",
    "\n",
    "#学習・最適なデータ重み比を走査\n",
    "best = None\n",
    "max_score = 0\n",
    "for target in range(1,10,1):\n",
    "    for population in range(1,10,1):\n",
    "        for amazon in range(1,10,1):\n",
    "            data_weights = get_wights(target, population, amazon)\n",
    "            classifer = SGDClassifier(loss=\"log\", penalty=\"l2\", random_state=334)\n",
    "            classifer.fit(x_train, df_all_train[\"Sentiment\"], sample_weight=data_weights)\n",
    "            score = classifer.score(x_target_valid,       df_target_valid[\"Sentiment\"])\n",
    "            if max_score < score:\n",
    "                best = (target, population, amazon)\n",
    "                max_score = score\n",
    "\n",
    "classifer = SGDClassifier(loss=\"log\", penalty=\"l2\", random_state=334)\n",
    "data_weights = get_wights(best[0], best[1], best[2])\n",
    "classifer.fit(x_train, df_all_train[\"Sentiment\"], sample_weight=data_weights)\n",
    "\n",
    "best, max_score"
   ]
  },
  {
   "attachments": {},
   "cell_type": "markdown",
   "metadata": {},
   "source": [
    "### 評価"
   ]
  },
  {
   "cell_type": "code",
   "execution_count": 30,
   "metadata": {},
   "outputs": [
    {
     "data": {
      "text/plain": [
       "(0.7758620689655172, 0.6785714285714286, 0.8125)"
      ]
     },
     "execution_count": 30,
     "metadata": {},
     "output_type": "execute_result"
    }
   ],
   "source": [
    "#評価データ\n",
    "target_score        = classifer.score(x_target_valid,       df_target_valid[\"Sentiment\"])\n",
    "population_score    = classifer.score(x_population_valid,   df_population_valid[\"Sentiment\"])\n",
    "amazon_score        = classifer.score(x_amazon_valid,       df_amazon_valid[\"Sentiment\"])\n",
    "\n",
    "target_score, population_score, amazon_score"
   ]
  },
  {
   "cell_type": "code",
   "execution_count": 31,
   "metadata": {},
   "outputs": [
    {
     "data": {
      "image/png": "[encoded data removed]",
      "text/plain": [
       "<Figure size 640x480 with 2 Axes>"
      ]
     },
     "metadata": {},
     "output_type": "display_data"
    }
   ],
   "source": [
    "from sklearn.metrics import confusion_matrix\n",
    "import seaborn as sns\n",
    "import matplotlib.pyplot as plt\n",
    "\n",
    "predicted = classifer.predict(x_target_valid)\n",
    "\n",
    "conf_mat = confusion_matrix(df_target_valid[\"Sentiment\"], predicted)\n",
    "sns.heatmap(conf_mat, annot=True, fmt=\"d\",\n",
    "                xticklabels=classifer.classes_, yticklabels=classifer.classes_)\n",
    "\n",
    "plt.ylabel(\"Actual\")\n",
    "plt.xlabel(\"Predicted\")\n",
    "\n",
    "plt.show()"
   ]
  },
  {
   "attachments": {},
   "cell_type": "markdown",
   "metadata": {},
   "source": [
    "## 保存\n"
   ]
  },
  {
   "cell_type": "code",
   "execution_count": 32,
   "metadata": {},
   "outputs": [],
   "source": [
    "import pickle\n",
    "\n",
    "#TFIDFモデル\n",
    "with open(tfidf_model_file, \"wb\") as f:\n",
    "    pickle.dump(tfidf_fit, f)\n",
    "\n",
    "#分類モデル\n",
    "with open(classifer_model_file, \"wb\") as f:\n",
    "    pickle.dump(classifer, f)"
   ]
  }
 ],
 "metadata": {
  "kernelspec": {
   "display_name": "jpnlp",
   "language": "python",
   "name": "python3"
  },
  "language_info": {
   "codemirror_mode": {
    "name": "ipython",
    "version": 3
   },
   "file_extension": ".py",
   "mimetype": "text/x-python",
   "name": "python",
   "nbconvert_exporter": "python",
   "pygments_lexer": "ipython3",
   "version": "3.9.16"
  },
  "orig_nbformat": 4,
  "vscode": {
   "interpreter": {
    "hash": "af19612f8f38f6812d87a5ef9419a460d9700d7e1cf8ff071cf581e2ee4d6233"
   }
  }
 },
 "nbformat": 4,
 "nbformat_minor": 2
}
