{
 "cells": [
  {
   "attachments": {},
   "cell_type": "markdown",
   "metadata": {},
   "source": [
    "# 過去スレ保管庫よりリンクをスクレイピング"
   ]
  },
  {
   "cell_type": "code",
   "execution_count": 1,
   "metadata": {},
   "outputs": [],
   "source": [
    "#データ管理のID\n",
    "ID = \"mimikkyu\"\n",
    "\n",
    "#リンク保存するファイル\n",
    "links_file = \"Links/%s.txt\"%ID\n",
    "\n",
    "#過去スレ一覧のURL（一つでいい）\n",
    "first_url = \"https://medaka.5ch.net/poke/kako/kako0000.html\""
   ]
  },
  {
   "attachments": {},
   "cell_type": "markdown",
   "metadata": {},
   "source": [
    "## スクレイピング"
   ]
  },
  {
   "cell_type": "code",
   "execution_count": 2,
   "metadata": {},
   "outputs": [],
   "source": [
    "from bs4 import BeautifulSoup\n",
    "from selenium import webdriver\n",
    "import chromedriver_binary\n",
    "from time import sleep\n",
    "import concurrent.futures"
   ]
  },
  {
   "attachments": {},
   "cell_type": "markdown",
   "metadata": {},
   "source": [
    "### ブラウザの用意"
   ]
  },
  {
   "cell_type": "code",
   "execution_count": 3,
   "metadata": {},
   "outputs": [],
   "source": [
    "chrome_options = webdriver.ChromeOptions()\n",
    "chrome_options.add_argument(\"--no-sandbox\")\n",
    "chrome_options.add_argument(\"--headless\")\n",
    "chrome_options.add_argument(\"--disable-gpu\")\n",
    "driver = webdriver.Chrome(options = chrome_options)"
   ]
  },
  {
   "attachments": {},
   "cell_type": "markdown",
   "metadata": {},
   "source": [
    "### 各サーバーのリンクを取得"
   ]
  },
  {
   "cell_type": "code",
   "execution_count": 4,
   "metadata": {},
   "outputs": [
    {
     "data": {
      "text/plain": [
       "(['https://medaka.5ch.net/poke/kako/kako0000.html',\n",
       "  'https://game.5ch.net/poke/kako/',\n",
       "  'https://game10.5ch.net/poke/kako/',\n",
       "  'https://game11.5ch.net/poke/kako/',\n",
       "  'https://game13.5ch.net/poke/kako/'],\n",
       " 15)"
      ]
     },
     "execution_count": 4,
     "metadata": {},
     "output_type": "execute_result"
    }
   ],
   "source": [
    "server_urls = [first_url]\n",
    "\n",
    "driver.get(first_url)\n",
    "\n",
    "html = driver.page_source\n",
    "soup = BeautifulSoup(html, \"html.parser\")\n",
    "\n",
    "#左のメニューより取得\n",
    "menu_div = soup.find(\"div\", class_ = \"menu\")\n",
    "\n",
    "server_list = menu_div.find(\"h2\")\n",
    "\n",
    "for p in menu_div.find_all(\"p\", class_=\"menu_link\"):\n",
    "    a = p.find(\"a\")\n",
    "    #「このサーバー」ではない\n",
    "    if a != None: \n",
    "        if a.get(\"href\")[0] != \".\":\n",
    "            #Other Listではない\n",
    "            link = \"https:\" + a.get(\"href\")\n",
    "            server_urls.append(link)\n",
    "\n",
    "server_urls[:5], len(server_urls)"
   ]
  },
  {
   "attachments": {},
   "cell_type": "markdown",
   "metadata": {},
   "source": [
    "### サーバー内のリスト一覧を取得"
   ]
  },
  {
   "cell_type": "code",
   "execution_count": 5,
   "metadata": {},
   "outputs": [
    {
     "data": {
      "text/plain": [
       "(['https://medaka.5ch.net/poke/kako/kako0000.html',\n",
       "  'https://game.5ch.net/poke/kako/'],\n",
       " ['https://medaka.5ch.net/poke/kako/kako0000.html',\n",
       "  'https://game.5ch.net/poke/kako/'])"
      ]
     },
     "execution_count": 5,
     "metadata": {},
     "output_type": "execute_result"
    }
   ],
   "source": [
    "list_urls = []\n",
    "\n",
    "#各サーバーについて\n",
    "for server in server_urls:\n",
    "    #自分自身\n",
    "    list_urls.append(server)\n",
    "\n",
    "    driver.get(server)\n",
    "\n",
    "    html = driver.page_source\n",
    "    soup = BeautifulSoup(html, \"html.parser\")\n",
    "\n",
    "    #左のメニューより取得\n",
    "    menu_div = soup.find(\"div\", class_ = \"menu\")\n",
    "\n",
    "    server_list = menu_div.find(\"h2\")\n",
    "\n",
    "    for p in menu_div.find_all(\"p\", class_=\"menu_link\"):\n",
    "        a = p.find(\"a\")\n",
    "        #「このサーバー」ではない\n",
    "        if a != None: \n",
    "            if a.get(\"href\")[0] == \".\":\n",
    "                #Other Listである\n",
    "                link = server + a.get(\"href\")[2:]\n",
    "                list_urls.append(link)\n",
    "            else:\n",
    "                break\n",
    "    \n",
    "list_urls[:2], server_urls[:2]"
   ]
  },
  {
   "attachments": {},
   "cell_type": "markdown",
   "metadata": {},
   "source": [
    "### 各リストから、URLを取得"
   ]
  },
  {
   "cell_type": "code",
   "execution_count": 6,
   "metadata": {},
   "outputs": [
    {
     "data": {
      "text/plain": [
       "(['https://medaka.5ch.net/test/read.cgi/poke/1676083464/',\n",
       "  'https://medaka.5ch.net/test/read.cgi/poke/1676036068/',\n",
       "  'https://medaka.5ch.net/test/read.cgi/poke/1675860039/',\n",
       "  'https://medaka.5ch.net/test/read.cgi/poke/1675721015/',\n",
       "  'https://medaka.5ch.net/test/read.cgi/poke/1675614440/'],\n",
       " 68776)"
      ]
     },
     "execution_count": 6,
     "metadata": {},
     "output_type": "execute_result"
    }
   ],
   "source": [
    "def scrape(list_url):\n",
    "    driver.get(list_url)\n",
    "\n",
    "    html = driver.page_source\n",
    "    soup = BeautifulSoup(html, \"html.parser\")\n",
    "\n",
    "    output = []\n",
    "\n",
    "    for p in soup.find_all(\"p\", class_ = \"main_odd\"):\n",
    "        href = p.find(\"a\").get(\"href\")\n",
    "\n",
    "        #URLを組み立てる\n",
    "        link = \"https://\" + list_url.split(\"/\")[2] +href\n",
    "\n",
    "        output.append(link) \n",
    "\n",
    "    for p in soup.find_all(\"p\", class_ = \"main_even\"):\n",
    "        href = p.find(\"a\").get(\"href\")\n",
    "\n",
    "        #URLを組み立てる\n",
    "        link = \"https://\" + list_url.split(\"/\")[2] +href\n",
    "\n",
    "        output.append(link) \n",
    "\n",
    "    return output \n",
    "\n",
    "\n",
    "result_urls = []\n",
    "for list_url in list_urls:\n",
    "    result_urls.extend(scrape(list_url))\n",
    "\n",
    "result_urls[:5], len(result_urls)    "
   ]
  },
  {
   "attachments": {},
   "cell_type": "markdown",
   "metadata": {},
   "source": [
    "## 結果を保存"
   ]
  },
  {
   "cell_type": "code",
   "execution_count": 14,
   "metadata": {},
   "outputs": [],
   "source": [
    "with open(links_file, \"a\", encoding = \"utf-8\") as f:\n",
    "    for link in result_urls:\n",
    "        f.write(link + \"\\n\")"
   ]
  }
 ],
 "metadata": {
  "kernelspec": {
   "display_name": "jpnlp",
   "language": "python",
   "name": "python3"
  },
  "language_info": {
   "codemirror_mode": {
    "name": "ipython",
    "version": 3
   },
   "file_extension": ".py",
   "mimetype": "text/x-python",
   "name": "python",
   "nbconvert_exporter": "python",
   "pygments_lexer": "ipython3",
   "version": "3.9.16"
  },
  "orig_nbformat": 4,
  "vscode": {
   "interpreter": {
    "hash": "af19612f8f38f6812d87a5ef9419a460d9700d7e1cf8ff071cf581e2ee4d6233"
   }
  }
 },
 "nbformat": 4,
 "nbformat_minor": 2
}
