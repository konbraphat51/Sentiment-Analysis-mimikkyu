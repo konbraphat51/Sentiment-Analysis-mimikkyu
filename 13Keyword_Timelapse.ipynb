{
 "cells": [
  {
   "attachments": {},
   "cell_type": "markdown",
   "metadata": {},
   "source": [
    "# 時期ごとの極性・共起変遷を追う"
   ]
  },
  {
   "cell_type": "code",
   "execution_count": 12,
   "metadata": {},
   "outputs": [],
   "source": [
    "ID = \"mimikkyu\"\n",
    "\n",
    "POPULATION_ID = \"pokemon\"\n",
    "\n",
    "PERIOD_ID = \"year\"\n",
    "\n",
    "#分析対象の単語ファイル\n",
    "keywords_file = \"Keywords/Timelapse/%s-from-%s.txt\"%(ID, POPULATION_ID)\n",
    "\n",
    "#ストップワード抜きの形態素解析・極性分析完了したデータ\n",
    "without_stopwords_text_file = \"Progresses/NonStopword/%s-from-%s.txt\"%(ID, POPULATION_ID)\n",
    "\n",
    "##TFIDFモデル\n",
    "tfidf_model_file = \"Models/Tfidf/%s-from-%s.model\"%(ID, POPULATION_ID)\n",
    "\n",
    "#保存するファイル\n",
    "sentiment_timelapse_file = \"Sentiment/Timelapse/%s-from-%s-by-%s.txt\"%(ID, POPULATION_ID, PERIOD_ID)\n",
    "\n",
    "#内部的に品詞を区別する区切り文字\n",
    "TOKEN_DIVIDER = \"<334>\""
   ]
  },
  {
   "cell_type": "code",
   "execution_count": 13,
   "metadata": {},
   "outputs": [],
   "source": [
    "#共起キーワードのストップワード（ここだけ）\n",
    "local_stopwords = [\"br\", \"ミミッキュ\", \"ミミ\"]"
   ]
  },
  {
   "attachments": {},
   "cell_type": "markdown",
   "metadata": {},
   "source": [
    "## "
   ]
  },
  {
   "attachments": {},
   "cell_type": "markdown",
   "metadata": {},
   "source": [
    "## 与えられた時期にインデックスを割り振る\n",
    "分けたい時期にあわせて書き換える"
   ]
  },
  {
   "cell_type": "code",
   "execution_count": 14,
   "metadata": {},
   "outputs": [],
   "source": [
    "from datetime import datetime"
   ]
  },
  {
   "cell_type": "code",
   "execution_count": 15,
   "metadata": {},
   "outputs": [],
   "source": [
    "#これを書き換える\n",
    "#万が一 -1 が出てしまうとエラーが出てしまうので注意（上限はない）\n",
    "def get_time_index(time: datetime):\n",
    "    #2016年から一年ごとに割り振る\n",
    "\n",
    "    years_passed = time.year - 2016\n",
    "    \n",
    "    if years_passed >= 0:\n",
    "        return years_passed\n",
    "    else:\n",
    "        return 0\n",
    "\n",
    "#保持しているデータの形式からdatetime型に変換\n",
    "def convert_time(text: str):\n",
    "    return datetime.strptime(text, \"%Y/%m/%d|%H/%M/%S\")\n",
    "\n",
    "#最大インデックスを算出\n",
    "MAX_TIME_INDEX = get_time_index(datetime.now())"
   ]
  },
  {
   "attachments": {},
   "cell_type": "markdown",
   "metadata": {},
   "source": [
    "## データ読み込み"
   ]
  },
  {
   "cell_type": "code",
   "execution_count": 16,
   "metadata": {},
   "outputs": [],
   "source": [
    "import pandas as pd\n",
    "import numpy as np"
   ]
  },
  {
   "attachments": {},
   "cell_type": "markdown",
   "metadata": {},
   "source": [
    "### 処理済みデータ"
   ]
  },
  {
   "cell_type": "code",
   "execution_count": 17,
   "metadata": {},
   "outputs": [
    {
     "data": {
      "text/html": [
       "<div>\n",
       "<style scoped>\n",
       "    .dataframe tbody tr th:only-of-type {\n",
       "        vertical-align: middle;\n",
       "    }\n",
       "\n",
       "    .dataframe tbody tr th {\n",
       "        vertical-align: top;\n",
       "    }\n",
       "\n",
       "    .dataframe thead th {\n",
       "        text-align: right;\n",
       "    }\n",
       "</style>\n",
       "<table border=\"1\" class=\"dataframe\">\n",
       "  <thead>\n",
       "    <tr style=\"text-align: right;\">\n",
       "      <th></th>\n",
       "      <th>date</th>\n",
       "      <th>link_index</th>\n",
       "      <th>number</th>\n",
       "      <th>content</th>\n",
       "      <th>disassembled_all</th>\n",
       "      <th>disassembled_target</th>\n",
       "      <th>Sentiment</th>\n",
       "    </tr>\n",
       "  </thead>\n",
       "  <tbody>\n",
       "    <tr>\n",
       "      <th>0</th>\n",
       "      <td>2017/01/10|18/43/00</td>\n",
       "      <td>57557</td>\n",
       "      <td>4</td>\n",
       "      <td>いちおつまり  やっとミミッキュ理想でた &lt;\\br&gt;</td>\n",
       "      <td>*&lt;334&gt;一&lt;334&gt;おー&lt;334&gt;詰まり&lt;334&gt;漸と&lt;334&gt;ミミッキュ&lt;334&gt;理想...</td>\n",
       "      <td>一&lt;334&gt;ミミッキュ&lt;334&gt;理想&lt;334&gt;br</td>\n",
       "      <td>pos</td>\n",
       "    </tr>\n",
       "    <tr>\n",
       "      <th>1</th>\n",
       "      <td>2017/01/10|19/04/00</td>\n",
       "      <td>57557</td>\n",
       "      <td>78</td>\n",
       "      <td>ミミッキュて生き残るの？ &lt;\\br&gt;</td>\n",
       "      <td>*&lt;334&gt;ミミ&lt;334&gt;っ&lt;334&gt;きゅっ&lt;334&gt;って&lt;334&gt;生き残る&lt;334&gt;の&lt;3...</td>\n",
       "      <td>ミミ&lt;334&gt;br</td>\n",
       "      <td>neg</td>\n",
       "    </tr>\n",
       "  </tbody>\n",
       "</table>\n",
       "</div>"
      ],
      "text/plain": [
       "                  date  link_index  number                      content  \\\n",
       "0  2017/01/10|18/43/00       57557       4   いちおつまり  やっとミミッキュ理想でた <\\br>   \n",
       "1  2017/01/10|19/04/00       57557      78           ミミッキュて生き残るの？ <\\br>   \n",
       "\n",
       "                                    disassembled_all  \\\n",
       "0  *<334>一<334>おー<334>詰まり<334>漸と<334>ミミッキュ<334>理想...   \n",
       "1  *<334>ミミ<334>っ<334>きゅっ<334>って<334>生き残る<334>の<3...   \n",
       "\n",
       "         disassembled_target Sentiment  \n",
       "0  一<334>ミミッキュ<334>理想<334>br       pos  \n",
       "1                  ミミ<334>br       neg  "
      ]
     },
     "execution_count": 17,
     "metadata": {},
     "output_type": "execute_result"
    }
   ],
   "source": [
    "df_main = pd.read_table(without_stopwords_text_file)\n",
    "\n",
    "df_main.head(2)"
   ]
  },
  {
   "attachments": {},
   "cell_type": "markdown",
   "metadata": {},
   "source": [
    "### 本ノート用キーワード"
   ]
  },
  {
   "cell_type": "code",
   "execution_count": 18,
   "metadata": {},
   "outputs": [
    {
     "data": {
      "text/plain": [
       "['z', '襷', '対策', '剣舞', '鬼火', '多い', 'レート-rate', '化けの皮']"
      ]
     },
     "execution_count": 18,
     "metadata": {},
     "output_type": "execute_result"
    }
   ],
   "source": [
    "with open(keywords_file, \"r\", encoding=\"utf-8\") as f:\n",
    "    keywords = f.read().split()\n",
    "\n",
    "keywords"
   ]
  },
  {
   "attachments": {},
   "cell_type": "markdown",
   "metadata": {},
   "source": [
    "### 母集団からのTFIDFモデルをサルベージ"
   ]
  },
  {
   "cell_type": "code",
   "execution_count": 19,
   "metadata": {},
   "outputs": [],
   "source": [
    "import pickle\n",
    "from copy import deepcopy\n",
    "\n",
    "def tokenize(text):\n",
    "    return text.split(TOKEN_DIVIDER)\n",
    "\n",
    "with open(tfidf_model_file, \"rb\") as f:\n",
    "    tfidf_model = pickle.load(f)\n",
    "\n",
    "#対象（名詞・形容詞）を見せる用\n",
    "tfidf_model_showing = deepcopy(tfidf_model)\n",
    "tfidf_model_showing.ngram = (1,1)\n",
    "tfidf_model_showing.tokenizer = tokenize"
   ]
  },
  {
   "attachments": {},
   "cell_type": "markdown",
   "metadata": {},
   "source": [
    "## 分析"
   ]
  },
  {
   "attachments": {},
   "cell_type": "markdown",
   "metadata": {},
   "source": [
    "### 各テキストに時期インデックスを割り振る"
   ]
  },
  {
   "cell_type": "code",
   "execution_count": 31,
   "metadata": {},
   "outputs": [
    {
     "data": {
      "text/html": [
       "<div>\n",
       "<style scoped>\n",
       "    .dataframe tbody tr th:only-of-type {\n",
       "        vertical-align: middle;\n",
       "    }\n",
       "\n",
       "    .dataframe tbody tr th {\n",
       "        vertical-align: top;\n",
       "    }\n",
       "\n",
       "    .dataframe thead th {\n",
       "        text-align: right;\n",
       "    }\n",
       "</style>\n",
       "<table border=\"1\" class=\"dataframe\">\n",
       "  <thead>\n",
       "    <tr style=\"text-align: right;\">\n",
       "      <th></th>\n",
       "      <th>date</th>\n",
       "      <th>link_index</th>\n",
       "      <th>number</th>\n",
       "      <th>content</th>\n",
       "      <th>disassembled_all</th>\n",
       "      <th>disassembled_target</th>\n",
       "      <th>Sentiment</th>\n",
       "      <th>time_index</th>\n",
       "    </tr>\n",
       "  </thead>\n",
       "  <tbody>\n",
       "    <tr>\n",
       "      <th>0</th>\n",
       "      <td>2017/01/10|18/43/00</td>\n",
       "      <td>57557</td>\n",
       "      <td>4</td>\n",
       "      <td>いちおつまり  やっとミミッキュ理想でた &lt;\\br&gt;</td>\n",
       "      <td>*&lt;334&gt;一&lt;334&gt;おー&lt;334&gt;詰まり&lt;334&gt;漸と&lt;334&gt;ミミッキュ&lt;334&gt;理想...</td>\n",
       "      <td>一&lt;334&gt;ミミッキュ&lt;334&gt;理想&lt;334&gt;br</td>\n",
       "      <td>pos</td>\n",
       "      <td>1</td>\n",
       "    </tr>\n",
       "    <tr>\n",
       "      <th>1</th>\n",
       "      <td>2017/01/10|19/04/00</td>\n",
       "      <td>57557</td>\n",
       "      <td>78</td>\n",
       "      <td>ミミッキュて生き残るの？ &lt;\\br&gt;</td>\n",
       "      <td>*&lt;334&gt;ミミ&lt;334&gt;っ&lt;334&gt;きゅっ&lt;334&gt;って&lt;334&gt;生き残る&lt;334&gt;の&lt;3...</td>\n",
       "      <td>ミミ&lt;334&gt;br</td>\n",
       "      <td>neg</td>\n",
       "      <td>1</td>\n",
       "    </tr>\n",
       "    <tr>\n",
       "      <th>2</th>\n",
       "      <td>2017/01/10|19/39/00</td>\n",
       "      <td>57557</td>\n",
       "      <td>198</td>\n",
       "      <td>テテフよりミミッキュのほうが嫌い &lt;\\br&gt;</td>\n",
       "      <td>*&lt;334&gt;ティー-tea&lt;334&gt;テフ-teff&lt;334&gt;より&lt;334&gt;ミミッキュ&lt;334...</td>\n",
       "      <td>ティー-tea&lt;334&gt;テフ-teff&lt;334&gt;ミミッキュ&lt;334&gt;方&lt;334&gt;嫌い&lt;334&gt;br</td>\n",
       "      <td>neg</td>\n",
       "      <td>1</td>\n",
       "    </tr>\n",
       "  </tbody>\n",
       "</table>\n",
       "</div>"
      ],
      "text/plain": [
       "                  date  link_index  number                      content  \\\n",
       "0  2017/01/10|18/43/00       57557       4   いちおつまり  やっとミミッキュ理想でた <\\br>   \n",
       "1  2017/01/10|19/04/00       57557      78           ミミッキュて生き残るの？ <\\br>   \n",
       "2  2017/01/10|19/39/00       57557     198       テテフよりミミッキュのほうが嫌い <\\br>   \n",
       "\n",
       "                                    disassembled_all  \\\n",
       "0  *<334>一<334>おー<334>詰まり<334>漸と<334>ミミッキュ<334>理想...   \n",
       "1  *<334>ミミ<334>っ<334>きゅっ<334>って<334>生き残る<334>の<3...   \n",
       "2  *<334>ティー-tea<334>テフ-teff<334>より<334>ミミッキュ<334...   \n",
       "\n",
       "                                 disassembled_target Sentiment  time_index  \n",
       "0                          一<334>ミミッキュ<334>理想<334>br       pos           1  \n",
       "1                                          ミミ<334>br       neg           1  \n",
       "2  ティー-tea<334>テフ-teff<334>ミミッキュ<334>方<334>嫌い<334>br       neg           1  "
      ]
     },
     "execution_count": 31,
     "metadata": {},
     "output_type": "execute_result"
    }
   ],
   "source": [
    "indices = []\n",
    "\n",
    "for _, row in df_main.iterrows():\n",
    "    indices.append(get_time_index(convert_time(row[\"date\"])))\n",
    "\n",
    "df_main[\"time_index\"] = indices\n",
    "\n",
    "df_main.head(3)"
   ]
  },
  {
   "attachments": {},
   "cell_type": "markdown",
   "metadata": {},
   "source": [
    "### キーワードごとに分析"
   ]
  },
  {
   "cell_type": "code",
   "execution_count": 42,
   "metadata": {},
   "outputs": [
    {
     "name": "stdout",
     "output_type": "stream",
     "text": [
      "z\n",
      "   Scores    Counts                                   CoOccure\n",
      "0      32 -0.187500  z 技, 技, ゴースト-ghost, ゴースト-ghost z, ポリ-poly\n",
      "1      69 -0.246377      フェアリー-fairy z, z 技, フェアリー-fairy, 技, 襷\n",
      "2       0  0.000000                                           \n",
      "3       0  0.000000                                           \n",
      "4       0  0.000000                                           \n",
      "5       0  0.000000                                           \n",
      "6       0  0.000000                                           \n",
      "襷\n",
      "   Scores    Counts                              CoOccure\n",
      "0     250 -0.256000   襷 ミミッキュ, 襷 ミミ, ギャラ-guarantee, ガブ, 玉\n",
      "1     334 -0.257485              襷 ミミッキュ, 襷 ミミ, z, 良い, 剣舞\n",
      "2       0  0.000000                                      \n",
      "3       0  0.000000                                      \n",
      "4       0  0.000000                                      \n",
      "5       0  0.000000                                      \n",
      "6       2  0.000000  脅威, ダイ-dye, マックス-max, トリック-trick, 不明\n",
      "対策\n",
      "   Scores    Counts                                CoOccure\n",
      "0     133 -0.248120  ミミッキュ 対策, メガ-mega, 良い, 無い, フェアリー-fairy\n",
      "1     226 -0.345133               ミミッキュ 対策, 無い, 良い, ポケモン, 襷\n",
      "2       0  0.000000                                        \n",
      "3       0  0.000000                                        \n",
      "4       0  0.000000                                        \n",
      "5       0  0.000000                                        \n",
      "6       1 -1.000000                        環境, 滓, 途端, 禁, 擁護\n",
      "剣舞\n",
      "   Scores    Counts                   CoOccure\n",
      "0     132 -0.303030     z, 剣舞 ミミッキュ, 強い, 襷, 鬼火\n",
      "1     190 -0.357895     z, 剣舞 ミミッキュ, 無い, 襷, 挑発\n",
      "2       0  0.000000                           \n",
      "3       0  0.000000                           \n",
      "4       0  0.000000                           \n",
      "5       0  0.000000                           \n",
      "6       1  1.000000  不明, 18, スカーフ-scarf, 剣舞, 型\n",
      "鬼火\n",
      "   Scores    Counts                             CoOccure\n",
      "0     125 -0.200000  トリル-trill, ギャラ-guarantee, 剣舞, 電磁, 襷\n",
      "1     136 -0.088235            トリル-trill, 挑発, 電磁, 剣舞, 物理\n",
      "2       0  0.000000                                     \n",
      "3       0  0.000000                                     \n",
      "4       0  0.000000                                     \n",
      "5       0  0.000000                                     \n",
      "6       1 -1.000000                     15, \", 序で, 店, 底辺\n",
      "多い\n",
      "   Scores    Counts                                           CoOccure\n",
      "0     152 -0.342105                            無い, 人 多い, ポケモン, 奴, 奴 多い\n",
      "1     185 -0.545946                                  無い, 奴 多い, 事, 奴, 1\n",
      "2       0  0.000000                                                   \n",
      "3       0  0.000000                                                   \n",
      "4       0  0.000000                                                   \n",
      "5       0  0.000000                                                   \n",
      "6       1 -1.000000  無い ポケモン, マスコット-mascot, グッズ-goods, ファン-fan（熱狂者）...\n",
      "レート-rate\n",
      "   Scores    Counts                       CoOccure\n",
      "0     121 -0.421488  無い, 1700, ub, 多い, パーティー-party\n",
      "1     188 -0.382979  2000, パーティー-party, 無い, 切断, 雑魚\n",
      "2       0  0.000000                               \n",
      "3       0  0.000000                               \n",
      "4       0  0.000000                               \n",
      "5       0  0.000000                               \n",
      "6       0  0.000000                               \n",
      "化けの皮\n",
      "   Scores    Counts           CoOccure\n",
      "0      91 -0.472527  発動, 貫通, 襷, 状態, 無い\n",
      "1      92 -0.543478   襷, 無い, 剣舞, 技, 特性\n",
      "2       0  0.000000                   \n",
      "3       0  0.000000                   \n",
      "4       0  0.000000                   \n",
      "5       0  0.000000                   \n",
      "6       0  0.000000                   \n"
     ]
    }
   ],
   "source": [
    "#キーワードごとに\n",
    "for keyword in keywords:\n",
    "    scores = []\n",
    "    coocs = []\n",
    "    counts = []\n",
    "\n",
    "    #時期インデックスごとに\n",
    "    for time_index in range(MAX_TIME_INDEX):\n",
    "        #極性スコア計算\n",
    "        score = 0\n",
    "        cnt = 0\n",
    "        texts = []\n",
    "        for _, row in df_main[df_main[\"time_index\"] == time_index].iterrows():\n",
    "            if keyword in row[\"disassembled_all\"].split(TOKEN_DIVIDER):\n",
    "                cnt += 1\n",
    "                if row[\"Sentiment\"] == \"pos\":\n",
    "                    score += 1\n",
    "                else:\n",
    "                    score -= 1\n",
    "                texts.append(row[\"disassembled_target\"])\n",
    "        if cnt != 0:\n",
    "            score /= cnt\n",
    "        else:\n",
    "            score = 0\n",
    "        \n",
    "        ##共起\n",
    "        #TFIDF計算\n",
    "        if cnt != 0:\n",
    "            tfidf_spycy = tfidf_model_showing.transform(texts)\n",
    "            tfidf_df = pd.DataFrame(tfidf_spycy.toarray(), columns=tfidf_model_showing.get_feature_names_out())\n",
    "            tfidf_mean = tfidf_df.mean(axis=0)\n",
    "\n",
    "            #単語名と結び付け\n",
    "            tfidf_mean = tfidf_mean.sort_values(ascending=False)\n",
    "\n",
    "            #ストップワードの削除\n",
    "            for word in local_stopwords:\n",
    "                tfidf_mean = tfidf_mean.drop(word)\n",
    "\n",
    "            if len(tfidf_mean) > 1:\n",
    "                cooc = \", \".join(tfidf_mean[1:min(6, len(tfidf_mean))].index)\n",
    "            else:\n",
    "                cooc = \"\"\n",
    "        else:\n",
    "            cooc = \"\"\n",
    "        \n",
    "        scores.append(score)\n",
    "        coocs.append(cooc)\n",
    "        counts.append(cnt)\n",
    "\n",
    "    df_keyword = pd.DataFrame(list(zip(counts, scores, coocs)), columns=[\"Scores\", \"Counts\", \"CoOccure\"])\n",
    "\n",
    "    print(keyword)\n",
    "    print(df_keyword)"
   ]
  }
 ],
 "metadata": {
  "kernelspec": {
   "display_name": "jpnlp",
   "language": "python",
   "name": "python3"
  },
  "language_info": {
   "codemirror_mode": {
    "name": "ipython",
    "version": 3
   },
   "file_extension": ".py",
   "mimetype": "text/x-python",
   "name": "python",
   "nbconvert_exporter": "python",
   "pygments_lexer": "ipython3",
   "version": "3.9.16"
  },
  "orig_nbformat": 4,
  "vscode": {
   "interpreter": {
    "hash": "af19612f8f38f6812d87a5ef9419a460d9700d7e1cf8ff071cf581e2ee4d6233"
   }
  }
 },
 "nbformat": 4,
 "nbformat_minor": 2
}
