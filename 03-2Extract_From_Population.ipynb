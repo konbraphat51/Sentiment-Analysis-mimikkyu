{
 "cells": [
  {
   "attachments": {},
   "cell_type": "markdown",
   "metadata": {},
   "source": [
    "# 03-1で母集団を取ってきた場合、その母集団テキストの中からキーワード該当のテキストを抽出\n",
    "同じ母集団で比較したいとき、webスクレイピングより圧倒的高速にテキストデータセットが欲しいとき"
   ]
  },
  {
   "cell_type": "code",
   "execution_count": null,
   "metadata": {},
   "outputs": [],
   "source": [
    "#データ管理のID\n",
    "ID = \"UT-sei\"\n",
    "\n",
    "#母集団のファイル\n",
    "population_file = \"Responses/UT-population.txt\"\n",
    "\n",
    "#レス保存するファイル\n",
    "responses_file = \"Responses/%s.txt\"%ID\n",
    "\n",
    "#キーワードファイル\n",
    "keywords_file = \"Keywords/%s.txt\"%ID\n",
    "\n",
    "#並列数\n",
    "WORKERS_N = 30\n",
    "\n",
    "#スクレイピングするファイル数（全スレ抽出する場合はNoneに）\n",
    "WANTED_THREADS = 50000"
   ]
  }
 ],
 "metadata": {
  "kernelspec": {
   "display_name": "Python 3",
   "language": "python",
   "name": "python3"
  },
  "language_info": {
   "name": "python",
   "version": "3.11.0"
  },
  "orig_nbformat": 4,
  "vscode": {
   "interpreter": {
    "hash": "f18876ba008b8f03c8db473942efc120a13a06fe3a8b9090651dfef4dd2a9267"
   }
  }
 },
 "nbformat": 4,
 "nbformat_minor": 2
}
