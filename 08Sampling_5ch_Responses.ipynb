{
 "cells": [
  {
   "attachments": {},
   "cell_type": "markdown",
   "metadata": {},
   "source": [
    "# 5chから母集団となるスレをランダム抽出する"
   ]
  },
  {
   "cell_type": "code",
   "execution_count": 1,
   "metadata": {},
   "outputs": [],
   "source": [
    "#リンク保存されたファイル\n",
    "links_file = \"Links/%s.txt\"%(\"population\")\n",
    "\n",
    "#テキスト保存するファイル\n",
    "texts_file = \"Only_Texts/%s.txt\"%(\"population\")\n",
    "\n",
    "#抽出するスレ数\n",
    "wanted = 10000\n",
    "\n",
    "#並列数\n",
    "WORKERS_N = 30"
   ]
  },
  {
   "attachments": {},
   "cell_type": "markdown",
   "metadata": {},
   "source": [
    "## リンク集を取得"
   ]
  },
  {
   "cell_type": "code",
   "execution_count": 2,
   "metadata": {},
   "outputs": [],
   "source": [
    "import random\n",
    "\n",
    "random.seed(334)"
   ]
  },
  {
   "cell_type": "code",
   "execution_count": 3,
   "metadata": {},
   "outputs": [],
   "source": [
    "with open(links_file, \"r\", encoding=\"utf-8\") as f:\n",
    "    thread_links = f.read().split()"
   ]
  },
  {
   "attachments": {},
   "cell_type": "markdown",
   "metadata": {},
   "source": [
    "### リンクをランダム抽出"
   ]
  },
  {
   "cell_type": "code",
   "execution_count": 4,
   "metadata": {},
   "outputs": [],
   "source": [
    "thread_links = random.sample(thread_links, wanted)\n",
    "\n",
    "#並べ替える\n",
    "random.shuffle(thread_links)"
   ]
  },
  {
   "attachments": {},
   "cell_type": "markdown",
   "metadata": {},
   "source": [
    "## スレをスクレイピング"
   ]
  },
  {
   "cell_type": "code",
   "execution_count": 5,
   "metadata": {},
   "outputs": [],
   "source": [
    "from bs4 import BeautifulSoup\n",
    "from selenium import webdriver\n",
    "import chromedriver_binary\n",
    "import concurrent.futures\n",
    "from threading import Lock\n",
    "from time import sleep\n",
    "import datetime\n",
    "import re"
   ]
  },
  {
   "cell_type": "code",
   "execution_count": 6,
   "metadata": {},
   "outputs": [],
   "source": [
    "drivers = []\n",
    "\n",
    "class Driver:\n",
    "    def __init__(self, option):\n",
    "        self.driver = webdriver.Chrome(options=option)\n",
    "        self.used = False\n",
    "\n",
    "chrome_options = webdriver.ChromeOptions()\n",
    "chrome_options.add_argument(\"--no-sandbox\")\n",
    "chrome_options.add_argument(\"--headless\")\n",
    "chrome_options.add_argument(\"--disable-gpu\")\n",
    "for _ in range(WORKERS_N):\n",
    "    drivers.append(Driver(chrome_options))"
   ]
  },
  {
   "cell_type": "code",
   "execution_count": 7,
   "metadata": {},
   "outputs": [],
   "source": [
    "def get_from_current(soup):\n",
    "    thread_div = soup.find(\"div\", class_=\"thread\")\n",
    "    posts_div = thread_div.find_all(\"div\", class_=\"post\")\n",
    "\n",
    "    contents = []\n",
    "\n",
    "    for post_div in posts_div:\n",
    "        #内容\n",
    "        content = post_div.find(\"div\", class_=\"message\").text\n",
    "        contents.append(content)\n",
    "\n",
    "    return contents\n",
    "\n",
    "def get_from_past(soup):\n",
    "    #投稿内容\n",
    "    dd = soup.find_all(\"dd\")\n",
    "    dd[0].find(\"div\").decompose()\n",
    "\n",
    "    contents = []\n",
    "    for cnt in range(len(dd)):\n",
    "\n",
    "        #投稿内容\n",
    "        content = dd[cnt].text      \n",
    "        contents.append(content)\n",
    "\n",
    "    return contents"
   ]
  },
  {
   "cell_type": "code",
   "execution_count": 8,
   "metadata": {},
   "outputs": [],
   "source": [
    "#ファイル記入重複防止\n",
    "write_lock = Lock()\n",
    "\n",
    "def process_content(content):\n",
    "    result = content.replace(\"\\t\", \"<\\\\t>\").replace(\"\\n\", \"<\\\\br>\")\n",
    "    return result\n",
    "\n",
    "#レス、スレファイルへの記入\n",
    "def write_response(f, content):\n",
    "    f.write(process_content(content)+\"\\n\")\n",
    "\n",
    "#使われていないブラウザを返す\n",
    "def GetUnusedDriver():\n",
    "    global drivers\n",
    "    \n",
    "    for driver in drivers:\n",
    "        if driver.used == False:\n",
    "            return driver\n",
    "    \n",
    "    print(\"ALL USED\")\n",
    "\n",
    "def scrape(link):\n",
    "    global write_lock\n",
    "    #ブラウザを使い始める\n",
    "    driver = GetUnusedDriver()\n",
    "    if driver != None:\n",
    "        driver.used = True\n",
    "    else:\n",
    "        #ブラウザがなかった\n",
    "        return\n",
    "    \n",
    "    try:\n",
    "        #アクセス\n",
    "        while True:\n",
    "            driver.driver.get(link)\n",
    "\n",
    "            sleep(0.5)\n",
    "\n",
    "            html = driver.driver.page_source\n",
    "            soup = BeautifulSoup(html, \"html.parser\")\n",
    "\n",
    "            #人大杉対策\n",
    "            title = soup.find(\"title\").text\n",
    "            \n",
    "            if (\"error\" in title):\n",
    "                #時間をおいてやり直し\n",
    "                sleep(1)\n",
    "            else:\n",
    "                #アクセス完了\n",
    "                break\n",
    "\n",
    "        #現在型か過去型か判別\n",
    "        if soup.find_all(\"meta\")[1].get(\"property\") == \"og:title\":\n",
    "            current = False\n",
    "        else:\n",
    "            current = True\n",
    "        \n",
    "        #スクレイピング\n",
    "        if current:\n",
    "            contents = get_from_current(soup)\n",
    "        else:\n",
    "            contents = get_from_past(soup)\n",
    "\n",
    "        #同時書き込み防止\n",
    "        with write_lock:\n",
    "            #スレ・レス記入\n",
    "            found_keyword = []\n",
    "            with open(texts_file, \"a\", encoding=\"utf-8\") as f:\n",
    "                for content in contents:\n",
    "                    write_response(f, content)\n",
    "\n",
    "    except Exception as e:\n",
    "        print(link)\n",
    "        print(str(e))\n",
    "\n",
    "    #使い終わった\n",
    "    driver.used = False"
   ]
  },
  {
   "cell_type": "code",
   "execution_count": 9,
   "metadata": {},
   "outputs": [],
   "source": [
    "random.shuffle(thread_links)\n",
    "\n",
    "with concurrent.futures.ThreadPoolExecutor(max_workers=WORKERS_N) as executor:\n",
    "    futures = [executor.submit(scrape, link) for link in thread_links]\n",
    "\n",
    "    #完了まで待つ\n",
    "    _ = concurrent.futures.as_completed(fs = futures)"
   ]
  }
 ],
 "metadata": {
  "kernelspec": {
   "display_name": "jpnlp",
   "language": "python",
   "name": "python3"
  },
  "language_info": {
   "codemirror_mode": {
    "name": "ipython",
    "version": 3
   },
   "file_extension": ".py",
   "mimetype": "text/x-python",
   "name": "python",
   "nbconvert_exporter": "python",
   "pygments_lexer": "ipython3",
   "version": "3.9.16"
  },
  "orig_nbformat": 4,
  "vscode": {
   "interpreter": {
    "hash": "af19612f8f38f6812d87a5ef9419a460d9700d7e1cf8ff071cf581e2ee4d6233"
   }
  }
 },
 "nbformat": 4,
 "nbformat_minor": 2
}
