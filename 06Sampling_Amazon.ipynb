{
 "cells": [
  {
   "attachments": {},
   "cell_type": "markdown",
   "metadata": {},
   "source": [
    "# Amazonレビューからポジティブテキスト、ネガティブテキストをサンプル抽出\n",
    "ポジティブは星5、ネガティブは星１  \n",
    "データの場所：https://s3.amazonaws.com/amazon-reviews-pds/readme.html"
   ]
  },
  {
   "cell_type": "code",
   "execution_count": 11,
   "metadata": {},
   "outputs": [],
   "source": [
    "import pandas as pd\n",
    "import random\n",
    "\n",
    "random.seed(334)"
   ]
  },
  {
   "cell_type": "code",
   "execution_count": 12,
   "metadata": {},
   "outputs": [],
   "source": [
    "#取り出したい数\n",
    "wanted_pos = 1000  #星5\n",
    "wanted_neg = 1000  #星1\n",
    "\n",
    "#Amazon母集団ファイルの場所\n",
    "population_file = \"Amazon/amazon_reviews_multilingual_JP_v1_00.tsv\"\n",
    "\n",
    "#出力ファイルの名前\n",
    "positive_file = \"Amazon/positive.txt\"\n",
    "negative_file = \"Amazon/negative.txt\""
   ]
  },
  {
   "cell_type": "code",
   "execution_count": 13,
   "metadata": {},
   "outputs": [
    {
     "data": {
      "text/html": [
       "<div>\n",
       "<style scoped>\n",
       "    .dataframe tbody tr th:only-of-type {\n",
       "        vertical-align: middle;\n",
       "    }\n",
       "\n",
       "    .dataframe tbody tr th {\n",
       "        vertical-align: top;\n",
       "    }\n",
       "\n",
       "    .dataframe thead th {\n",
       "        text-align: right;\n",
       "    }\n",
       "</style>\n",
       "<table border=\"1\" class=\"dataframe\">\n",
       "  <thead>\n",
       "    <tr style=\"text-align: right;\">\n",
       "      <th></th>\n",
       "      <th>marketplace</th>\n",
       "      <th>customer_id</th>\n",
       "      <th>review_id</th>\n",
       "      <th>product_id</th>\n",
       "      <th>product_parent</th>\n",
       "      <th>product_title</th>\n",
       "      <th>product_category</th>\n",
       "      <th>star_rating</th>\n",
       "      <th>helpful_votes</th>\n",
       "      <th>total_votes</th>\n",
       "      <th>vine</th>\n",
       "      <th>verified_purchase</th>\n",
       "      <th>review_headline</th>\n",
       "      <th>review_body</th>\n",
       "      <th>review_date</th>\n",
       "    </tr>\n",
       "  </thead>\n",
       "  <tbody>\n",
       "    <tr>\n",
       "      <th>0</th>\n",
       "      <td>JP</td>\n",
       "      <td>65317</td>\n",
       "      <td>R33RSUD4ZTRKT7</td>\n",
       "      <td>B000001GBJ</td>\n",
       "      <td>957145596</td>\n",
       "      <td>SONGS FROM A SECRET GARDE</td>\n",
       "      <td>Music</td>\n",
       "      <td>1</td>\n",
       "      <td>1</td>\n",
       "      <td>15</td>\n",
       "      <td>N</td>\n",
       "      <td>Y</td>\n",
       "      <td>残念ながら…</td>\n",
       "      <td>残念ながら…趣味ではありませんでした。ケルト音楽の範疇にも幅があるのですね…</td>\n",
       "      <td>2012-12-05</td>\n",
       "    </tr>\n",
       "    <tr>\n",
       "      <th>1</th>\n",
       "      <td>JP</td>\n",
       "      <td>65317</td>\n",
       "      <td>R2U1VB8GPZBBEH</td>\n",
       "      <td>B000YPWBQ2</td>\n",
       "      <td>904244932</td>\n",
       "      <td>鏡の中の鏡‾ペルト作品集(SACD)(Arvo Part:Spiegel im Spiegel)</td>\n",
       "      <td>Music</td>\n",
       "      <td>1</td>\n",
       "      <td>4</td>\n",
       "      <td>20</td>\n",
       "      <td>N</td>\n",
       "      <td>Y</td>\n",
       "      <td>残念ながら…</td>\n",
       "      <td>残念ながら…趣味ではありませんでした。正直退屈…眠気も起きない…</td>\n",
       "      <td>2012-12-05</td>\n",
       "    </tr>\n",
       "    <tr>\n",
       "      <th>2</th>\n",
       "      <td>JP</td>\n",
       "      <td>65696</td>\n",
       "      <td>R1IBRCJPPGWVJW</td>\n",
       "      <td>B0002E5O9G</td>\n",
       "      <td>108978277</td>\n",
       "      <td>Les Miserables 10th Anniversary Concert</td>\n",
       "      <td>Music</td>\n",
       "      <td>5</td>\n",
       "      <td>2</td>\n",
       "      <td>3</td>\n",
       "      <td>N</td>\n",
       "      <td>Y</td>\n",
       "      <td>ドリームキャスト</td>\n",
       "      <td>素晴らしいパフォーマンス。ミュージカル映画版の物足りない歌唱とは違います。</td>\n",
       "      <td>2013-03-02</td>\n",
       "    </tr>\n",
       "    <tr>\n",
       "      <th>3</th>\n",
       "      <td>JP</td>\n",
       "      <td>67162</td>\n",
       "      <td>RL02CW5XLYONU</td>\n",
       "      <td>B00004SRJ5</td>\n",
       "      <td>606528497</td>\n",
       "      <td>It Takes a Nation of Millions to Hold Us Back</td>\n",
       "      <td>Music</td>\n",
       "      <td>5</td>\n",
       "      <td>6</td>\n",
       "      <td>9</td>\n",
       "      <td>N</td>\n",
       "      <td>Y</td>\n",
       "      <td>やっぱりマスト</td>\n",
       "      <td>専門的な事を言わずにお勧めレコメを書きたいのですが、文才が無いので無理でした。ヒップホップが...</td>\n",
       "      <td>2013-08-11</td>\n",
       "    </tr>\n",
       "    <tr>\n",
       "      <th>4</th>\n",
       "      <td>JP</td>\n",
       "      <td>67701</td>\n",
       "      <td>R2LA2SS3HU3A3L</td>\n",
       "      <td>B0093H8H8I</td>\n",
       "      <td>509738390</td>\n",
       "      <td>Intel CPU Core I3-3225 3.3GHz 3MBキャッシュ LGA1155...</td>\n",
       "      <td>PC</td>\n",
       "      <td>4</td>\n",
       "      <td>2</td>\n",
       "      <td>4</td>\n",
       "      <td>N</td>\n",
       "      <td>Y</td>\n",
       "      <td>コスパ的には十分</td>\n",
       "      <td>今までの環境（Core2 Duo E4600)に比べれば十分に快適になりました。&lt;br /&gt;...</td>\n",
       "      <td>2013-02-10</td>\n",
       "    </tr>\n",
       "  </tbody>\n",
       "</table>\n",
       "</div>"
      ],
      "text/plain": [
       "  marketplace  customer_id       review_id  product_id  product_parent  \\\n",
       "0          JP        65317  R33RSUD4ZTRKT7  B000001GBJ       957145596   \n",
       "1          JP        65317  R2U1VB8GPZBBEH  B000YPWBQ2       904244932   \n",
       "2          JP        65696  R1IBRCJPPGWVJW  B0002E5O9G       108978277   \n",
       "3          JP        67162   RL02CW5XLYONU  B00004SRJ5       606528497   \n",
       "4          JP        67701  R2LA2SS3HU3A3L  B0093H8H8I       509738390   \n",
       "\n",
       "                                       product_title product_category  \\\n",
       "0                          SONGS FROM A SECRET GARDE            Music   \n",
       "1   鏡の中の鏡‾ペルト作品集(SACD)(Arvo Part:Spiegel im Spiegel)            Music   \n",
       "2            Les Miserables 10th Anniversary Concert            Music   \n",
       "3      It Takes a Nation of Millions to Hold Us Back            Music   \n",
       "4  Intel CPU Core I3-3225 3.3GHz 3MBキャッシュ LGA1155...               PC   \n",
       "\n",
       "   star_rating  helpful_votes  total_votes vine verified_purchase  \\\n",
       "0            1              1           15    N                 Y   \n",
       "1            1              4           20    N                 Y   \n",
       "2            5              2            3    N                 Y   \n",
       "3            5              6            9    N                 Y   \n",
       "4            4              2            4    N                 Y   \n",
       "\n",
       "  review_headline                                        review_body  \\\n",
       "0          残念ながら…             残念ながら…趣味ではありませんでした。ケルト音楽の範疇にも幅があるのですね…   \n",
       "1          残念ながら…                   残念ながら…趣味ではありませんでした。正直退屈…眠気も起きない…   \n",
       "2        ドリームキャスト              素晴らしいパフォーマンス。ミュージカル映画版の物足りない歌唱とは違います。   \n",
       "3         やっぱりマスト  専門的な事を言わずにお勧めレコメを書きたいのですが、文才が無いので無理でした。ヒップホップが...   \n",
       "4        コスパ的には十分  今までの環境（Core2 Duo E4600)に比べれば十分に快適になりました。<br />...   \n",
       "\n",
       "  review_date  \n",
       "0  2012-12-05  \n",
       "1  2012-12-05  \n",
       "2  2013-03-02  \n",
       "3  2013-08-11  \n",
       "4  2013-02-10  "
      ]
     },
     "execution_count": 13,
     "metadata": {},
     "output_type": "execute_result"
    }
   ],
   "source": [
    "#生データ\n",
    "#https://s3.amazonaws.com/amazon-reviews-pds/tsv/amazon_reviews_multilingual_JP_v1_00.tsv.gz\n",
    "origin_df = pd.read_table(population_file)\n",
    "\n",
    "origin_df.head(5)"
   ]
  },
  {
   "cell_type": "code",
   "execution_count": 14,
   "metadata": {},
   "outputs": [
    {
     "data": {
      "text/plain": [
       "((149357,), (13676,))"
      ]
     },
     "execution_count": 14,
     "metadata": {},
     "output_type": "execute_result"
    }
   ],
   "source": [
    "#ポジティブ、ネガティブを抽出\n",
    "df_pos = origin_df[origin_df[\"star_rating\"]==5][\"review_body\"]\n",
    "df_neg = origin_df[origin_df[\"star_rating\"]==1][\"review_body\"]\n",
    "\n",
    "df_pos.shape, df_neg.shape"
   ]
  },
  {
   "cell_type": "code",
   "execution_count": 15,
   "metadata": {},
   "outputs": [
    {
     "data": {
      "text/plain": [
       "((1000,), (1000,))"
      ]
     },
     "execution_count": 15,
     "metadata": {},
     "output_type": "execute_result"
    }
   ],
   "source": [
    "#抽出\n",
    "df_pos = df_pos.sample(n=wanted_pos, random_state=334)\n",
    "df_neg = df_neg.sample(n=wanted_neg, random_state=334)\n",
    "\n",
    "df_pos.shape, df_neg.shape"
   ]
  },
  {
   "cell_type": "code",
   "execution_count": 16,
   "metadata": {},
   "outputs": [],
   "source": [
    "df_pos.to_csv(positive_file, index = False, header=False)\n",
    "df_neg.to_csv(negative_file, index = False, header=False)"
   ]
  }
 ],
 "metadata": {
  "kernelspec": {
   "display_name": "jpnlp",
   "language": "python",
   "name": "python3"
  },
  "language_info": {
   "codemirror_mode": {
    "name": "ipython",
    "version": 3
   },
   "file_extension": ".py",
   "mimetype": "text/x-python",
   "name": "python",
   "nbconvert_exporter": "python",
   "pygments_lexer": "ipython3",
   "version": "3.9.16"
  },
  "orig_nbformat": 4,
  "vscode": {
   "interpreter": {
    "hash": "af19612f8f38f6812d87a5ef9419a460d9700d7e1cf8ff071cf581e2ee4d6233"
   }
  }
 },
 "nbformat": 4,
 "nbformat_minor": 2
}
