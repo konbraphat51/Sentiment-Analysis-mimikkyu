{
 "cells": [
  {
   "attachments": {},
   "cell_type": "markdown",
   "metadata": {},
   "source": [
    "# 得られた2ch母集団からランダムサンプリングしてサイズを縮小"
   ]
  },
  {
   "cell_type": "code",
   "execution_count": 4,
   "metadata": {},
   "outputs": [],
   "source": [
    "ID = \"population\"\n",
    "\n",
    "#母集団\n",
    "texts_file = \"Only_Texts/%s.txt\"%ID\n",
    "\n",
    "#欲しい投稿数\n",
    "wanted = 50000\n",
    "\n",
    "#縮小後\n",
    "smaller_file = \"Only_Texts/%s-sample%i.txt\"%(ID, wanted)"
   ]
  },
  {
   "cell_type": "code",
   "execution_count": 5,
   "metadata": {},
   "outputs": [],
   "source": [
    "import random\n",
    "\n",
    "random.seed(334)"
   ]
  },
  {
   "cell_type": "code",
   "execution_count": 6,
   "metadata": {},
   "outputs": [],
   "source": [
    "#取得\n",
    "with open(texts_file, \"r\", encoding=\"utf-8\") as f:\n",
    "    texts = f.read().split(\"\\n\")\n",
    "\n",
    "#抽出\n",
    "texts = random.sample(texts, wanted)\n",
    "\n",
    "#シャッフル\n",
    "random.shuffle(texts)\n",
    "\n",
    "#上書き記録\n",
    "with open(smaller_file, \"w\", encoding=\"utf-8\") as f:\n",
    "    f.write(\"\\n\".join(texts))"
   ]
  }
 ],
 "metadata": {
  "kernelspec": {
   "display_name": "jpnlp",
   "language": "python",
   "name": "python3"
  },
  "language_info": {
   "codemirror_mode": {
    "name": "ipython",
    "version": 3
   },
   "file_extension": ".py",
   "mimetype": "text/x-python",
   "name": "python",
   "nbconvert_exporter": "python",
   "pygments_lexer": "ipython3",
   "version": "3.9.16"
  },
  "orig_nbformat": 4,
  "vscode": {
   "interpreter": {
    "hash": "af19612f8f38f6812d87a5ef9419a460d9700d7e1cf8ff071cf581e2ee4d6233"
   }
  }
 },
 "nbformat": 4,
 "nbformat_minor": 2
}
