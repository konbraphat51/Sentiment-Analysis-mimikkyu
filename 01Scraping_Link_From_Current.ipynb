{
 "cells": [
  {
   "attachments": {},
   "cell_type": "markdown",
   "metadata": {},
   "source": [
    "# 現行スレのURLを収集"
   ]
  },
  {
   "cell_type": "code",
   "execution_count": 1,
   "metadata": {},
   "outputs": [],
   "source": [
    "#データ管理のID\n",
    "ID = \"Mimikkyu\"\n",
    "\n",
    "#リンク保存するファイル\n",
    "links_file = \"Links/%s.txt\"%ID\n",
    "\n",
    "#現行スレ一覧のURL\n",
    "current_url = \"https://medaka.5ch.net/poke/subback.html\""
   ]
  },
  {
   "attachments": {},
   "cell_type": "markdown",
   "metadata": {},
   "source": [
    "## スクレイピング"
   ]
  },
  {
   "cell_type": "code",
   "execution_count": 2,
   "metadata": {},
   "outputs": [],
   "source": [
    "from bs4 import BeautifulSoup\n",
    "from selenium import webdriver\n",
    "import chromedriver_binary\n",
    "from time import sleep\n",
    "import concurrent.futures"
   ]
  },
  {
   "attachments": {},
   "cell_type": "markdown",
   "metadata": {},
   "source": [
    "### Seleniumブラウザを用意する"
   ]
  },
  {
   "cell_type": "code",
   "execution_count": 3,
   "metadata": {},
   "outputs": [],
   "source": [
    "chrome_options = webdriver.ChromeOptions()\n",
    "chrome_options.add_argument(\"--no-sandbox\")\n",
    "chrome_options.add_argument(\"--headless\")\n",
    "chrome_options.add_argument(\"--disable-gpu\")\n",
    "driver = webdriver.Chrome(options = chrome_options)"
   ]
  },
  {
   "attachments": {},
   "cell_type": "markdown",
   "metadata": {},
   "source": [
    "### 指定のページについてスクレイピングしてリンクを取得"
   ]
  },
  {
   "cell_type": "code",
   "execution_count": 4,
   "metadata": {},
   "outputs": [
    {
     "data": {
      "text/plain": [
       "(['https://medaka.5ch.net/test/read.cgi/poke/1676185208/',\n",
       "  'https://medaka.5ch.net/test/read.cgi/poke/1676040219/',\n",
       "  'https://medaka.5ch.net/test/read.cgi/poke/1674783967/',\n",
       "  'https://medaka.5ch.net/test/read.cgi/poke/1672137365/',\n",
       "  'https://medaka.5ch.net/test/read.cgi/poke/1675886871/'],\n",
       " 149)"
      ]
     },
     "execution_count": 4,
     "metadata": {},
     "output_type": "execute_result"
    }
   ],
   "source": [
    "driver.get(current_url)\n",
    "\n",
    "html = driver.page_source\n",
    "soup = BeautifulSoup(html, \"html.parser\")\n",
    "\n",
    "#aから得るhrefの前に付ける\n",
    "base_url = \"https://\" + current_url.split(\"/\")[2] + soup.find(\"base\").get(\"href\")\n",
    "\n",
    "result_links = []\n",
    "\n",
    "small = soup.find(\"small\", id=\"trad\")\n",
    "\n",
    "for a in small.find_all(\"a\"):\n",
    "    link = base_url + a.get(\"href\")\n",
    "    result_links.append(link[:-3])\n",
    "\n",
    "result_links[:5], len(result_links)"
   ]
  },
  {
   "attachments": {},
   "cell_type": "markdown",
   "metadata": {},
   "source": [
    "## 保存"
   ]
  },
  {
   "cell_type": "code",
   "execution_count": 10,
   "metadata": {},
   "outputs": [],
   "source": [
    "with open(links_file, \"a\", encoding = \"utf-8\") as f:\n",
    "    for link in result_links:\n",
    "        f.write(link + \"\\n\")"
   ]
  }
 ],
 "metadata": {
  "kernelspec": {
   "display_name": "jpnlp",
   "language": "python",
   "name": "python3"
  },
  "language_info": {
   "codemirror_mode": {
    "name": "ipython",
    "version": 3
   },
   "file_extension": ".py",
   "mimetype": "text/x-python",
   "name": "python",
   "nbconvert_exporter": "python",
   "pygments_lexer": "ipython3",
   "version": "3.9.16"
  },
  "orig_nbformat": 4,
  "vscode": {
   "interpreter": {
    "hash": "af19612f8f38f6812d87a5ef9419a460d9700d7e1cf8ff071cf581e2ee4d6233"
   }
  }
 },
 "nbformat": 4,
 "nbformat_minor": 2
}
